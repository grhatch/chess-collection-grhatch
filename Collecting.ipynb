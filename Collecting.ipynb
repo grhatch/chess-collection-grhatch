{
 "cells": [
  {
   "cell_type": "code",
   "execution_count": 121,
   "id": "7df8f8f9",
   "metadata": {},
   "outputs": [],
   "source": [
    "import pandas as pd\n",
    "import numpy as np\n",
    "import json\n",
    "import requests\n",
    "import pprint \n",
    "import random\n",
    "from datetime import datetime\n",
    "import seaborn as sns"
   ]
  },
  {
   "cell_type": "code",
   "execution_count": 122,
   "id": "3f8e4473",
   "metadata": {},
   "outputs": [],
   "source": [
    "def TitledPlayers(title):\n",
    "    url = f\"https://api.chess.com/pub/titled/{title}\"\n",
    "    response = requests.request(\"GET\", url)\n",
    "    return response.json()\n",
    "gm = TitledPlayers('GM') #Grand Master\n",
    "im = TitledPlayers('IM') #International Master\n",
    "fm = TitledPlayers('FM') #FIDE Master\n",
    "cm = TitledPlayers('CM') #Candidate Master\n",
    "\n",
    "gmSmall = random.sample(gm['players'], 200)\n",
    "imSmall = random.sample(im['players'], 200)\n",
    "fmSmall = random.sample(fm['players'], 200)\n",
    "cmSmall = random.sample(cm['players'], 200)\n",
    "\n",
    "titles3 = [gmSmall, imSmall, fmSmall, cmSmall]"
   ]
  },
  {
   "cell_type": "code",
   "execution_count": 127,
   "id": "2c15c978",
   "metadata": {},
   "outputs": [
    {
     "name": "stderr",
     "output_type": "stream",
     "text": [
      "C:\\Users\\GavinHatch\\anaconda3\\lib\\site-packages\\numpy\\core\\fromnumeric.py:3440: RuntimeWarning: Mean of empty slice.\n",
      "  return _methods._mean(a, axis=axis, dtype=dtype,\n",
      "C:\\Users\\GavinHatch\\anaconda3\\lib\\site-packages\\numpy\\core\\_methods.py:189: RuntimeWarning: invalid value encountered in double_scalars\n",
      "  ret = ret.dtype.type(ret / rcount)\n"
     ]
    },
    {
     "name": "stdout",
     "output_type": "stream",
     "text": [
      "0:12:37.054860\n"
     ]
    }
   ],
   "source": [
    "#MAIN CELL\n",
    "start = datetime.now()\n",
    "data3 = []\n",
    "userTitle = ''\n",
    "for title in titles3: #loops through each of the titles (gm, im, fm, cm)\n",
    "    users = title\n",
    "    # in the following code block, define which title each player has based on which part of the loop it is in\n",
    "    if title == titles[0]:\n",
    "        userTitle = 'gm'\n",
    "    elif title == titles[1]:\n",
    "        userTitle = 'im'\n",
    "    elif title == titles[2]:\n",
    "        userTitle = 'fm'\n",
    "    elif title == titles[3]:\n",
    "        userTitle = 'cm'\n",
    "    for user in users: #loops through each user in the category\n",
    "        #hitting chess.com API to get each month that a player has games\n",
    "        url = f'https://api.chess.com/pub/player/{user}/games/archives'\n",
    "        response = requests.request(\"GET\", url)\n",
    "        archives = response.json()\n",
    "        \n",
    "        monthurls = archives['archives'][:1]\n",
    "\n",
    "        gameslist = []\n",
    "        for url in monthurls: #loop through each month\n",
    "            response = requests.request(\"GET\", url)\n",
    "            gameslist.append(response.json())\n",
    "        white = []\n",
    "        black = []\n",
    "#         whiteAccuracy = []\n",
    "#         blackAccuracy = []\n",
    "#         accuracy = []\n",
    "        for gamelist in gameslist: #loop through each list of games\n",
    "            games = gamelist['games']\n",
    "            for game in games: #within each list of games, get each game\n",
    "                if game['white']['username'] == user:\n",
    "#                     accuracy.append(game['accuracies']['white'])\n",
    "#                     whiteAccuracy.append(game['accuracies']['white'])\n",
    "                    if game['white']['result'] == 'win':\n",
    "                        white.append(1)\n",
    "                    else:\n",
    "                        white.append(0)\n",
    "                else:\n",
    "#                     accuracy.append(game['accuracies']['black'])\n",
    "#                     blackAccuracy.append(game['accuracies']['black'])\n",
    "                    if game['black']['result'] == 'win':\n",
    "                        black.append(1)\n",
    "                    else:\n",
    "                        black.append(0)    \n",
    "        \n",
    "        totalGames = white + black\n",
    "        numGames = len(totalGames)\n",
    "        winRate = np.mean(totalGames)\n",
    "#         avgAccuracy = np.mean(accuracy)\n",
    "        numWhite = len(white)\n",
    "        whiteRate = np.mean(white)\n",
    "#         avgWhiteAccuracy = np.mean(whiteAccuracy)\n",
    "        numBlack = len(black)\n",
    "        blackRate = np.mean(black)\n",
    "#         avgBlackAccuracy = np.mean(blackAccuracy)\n",
    "        \n",
    "        data2.append([user, userTitle, numGames, winRate, numWhite, whiteRate, numBlack, blackRate])\n",
    "    \n",
    "time = datetime.now() - start \n",
    "print(time)"
   ]
  },
  {
   "cell_type": "code",
   "execution_count": 95,
   "id": "905bb750",
   "metadata": {},
   "outputs": [
    {
     "data": {
      "text/plain": [
       "200"
      ]
     },
     "execution_count": 95,
     "metadata": {},
     "output_type": "execute_result"
    }
   ],
   "source": [
    "len(data)"
   ]
  },
  {
   "cell_type": "code",
   "execution_count": 130,
   "id": "0ff11ab0",
   "metadata": {},
   "outputs": [
    {
     "data": {
      "text/plain": [
       "943"
      ]
     },
     "execution_count": 130,
     "metadata": {},
     "output_type": "execute_result"
    }
   ],
   "source": [
    "len(data2)"
   ]
  },
  {
   "cell_type": "code",
   "execution_count": 129,
   "id": "dfe617d8",
   "metadata": {},
   "outputs": [
    {
     "data": {
      "text/plain": [
       "[]"
      ]
     },
     "execution_count": 129,
     "metadata": {},
     "output_type": "execute_result"
    }
   ],
   "source": []
  },
  {
   "cell_type": "code",
   "execution_count": 131,
   "id": "3c832ea9",
   "metadata": {},
   "outputs": [],
   "source": [
    "chess2 = pd.DataFrame(data2, columns=['username', 'title', 'numGames', 'winRate', 'numWhite', 'whiteRate', 'numBlack', 'blackRate'])"
   ]
  },
  {
   "cell_type": "code",
   "execution_count": 132,
   "id": "8c51888c",
   "metadata": {},
   "outputs": [
    {
     "name": "stdout",
     "output_type": "stream",
     "text": [
      "<class 'pandas.core.frame.DataFrame'>\n",
      "RangeIndex: 943 entries, 0 to 942\n",
      "Data columns (total 8 columns):\n",
      " #   Column     Non-Null Count  Dtype  \n",
      "---  ------     --------------  -----  \n",
      " 0   username   943 non-null    object \n",
      " 1   title      943 non-null    object \n",
      " 2   numGames   943 non-null    int64  \n",
      " 3   winRate    913 non-null    float64\n",
      " 4   numWhite   943 non-null    int64  \n",
      " 5   whiteRate  294 non-null    float64\n",
      " 6   numBlack   943 non-null    int64  \n",
      " 7   blackRate  898 non-null    float64\n",
      "dtypes: float64(3), int64(3), object(2)\n",
      "memory usage: 59.1+ KB\n"
     ]
    }
   ],
   "source": [
    "chess2.info()"
   ]
  },
  {
   "cell_type": "code",
   "execution_count": 137,
   "id": "3b086a24",
   "metadata": {},
   "outputs": [],
   "source": [
    "chess2.to_csv('chess.csv')"
   ]
  },
  {
   "cell_type": "code",
   "execution_count": 97,
   "id": "1121cf1d",
   "metadata": {},
   "outputs": [],
   "source": [
    "chess = pd.DataFrame(data, columns=['username', 'title', 'numGames', 'winRate', 'numWhite', 'whiteRate', 'numBlack', 'blackRate'])"
   ]
  },
  {
   "cell_type": "code",
   "execution_count": 98,
   "id": "bd09a4d8",
   "metadata": {},
   "outputs": [
    {
     "name": "stdout",
     "output_type": "stream",
     "text": [
      "<class 'pandas.core.frame.DataFrame'>\n",
      "RangeIndex: 200 entries, 0 to 199\n",
      "Data columns (total 8 columns):\n",
      " #   Column     Non-Null Count  Dtype  \n",
      "---  ------     --------------  -----  \n",
      " 0   username   200 non-null    object \n",
      " 1   title      200 non-null    object \n",
      " 2   numGames   200 non-null    int64  \n",
      " 3   winRate    195 non-null    float64\n",
      " 4   numWhite   200 non-null    int64  \n",
      " 5   whiteRate  71 non-null     float64\n",
      " 6   numBlack   200 non-null    int64  \n",
      " 7   blackRate  190 non-null    float64\n",
      "dtypes: float64(3), int64(3), object(2)\n",
      "memory usage: 12.6+ KB\n"
     ]
    }
   ],
   "source": [
    "chess.info()"
   ]
  },
  {
   "cell_type": "code",
   "execution_count": 136,
   "id": "2dc82c51",
   "metadata": {},
   "outputs": [
    {
     "data": {
      "text/html": [
       "<div>\n",
       "<style scoped>\n",
       "    .dataframe tbody tr th:only-of-type {\n",
       "        vertical-align: middle;\n",
       "    }\n",
       "\n",
       "    .dataframe tbody tr th {\n",
       "        vertical-align: top;\n",
       "    }\n",
       "\n",
       "    .dataframe thead th {\n",
       "        text-align: right;\n",
       "    }\n",
       "</style>\n",
       "<table border=\"1\" class=\"dataframe\">\n",
       "  <thead>\n",
       "    <tr style=\"text-align: right;\">\n",
       "      <th></th>\n",
       "      <th>username</th>\n",
       "      <th>title</th>\n",
       "      <th>numGames</th>\n",
       "      <th>winRate</th>\n",
       "      <th>numWhite</th>\n",
       "      <th>whiteRate</th>\n",
       "      <th>numBlack</th>\n",
       "      <th>blackRate</th>\n",
       "    </tr>\n",
       "  </thead>\n",
       "  <tbody>\n",
       "    <tr>\n",
       "      <th>2</th>\n",
       "      <td>garcho08</td>\n",
       "      <td></td>\n",
       "      <td>5</td>\n",
       "      <td>0.800000</td>\n",
       "      <td>2</td>\n",
       "      <td>1.000000</td>\n",
       "      <td>3</td>\n",
       "      <td>0.666667</td>\n",
       "    </tr>\n",
       "    <tr>\n",
       "      <th>12</th>\n",
       "      <td>lyndonlistzmendonca</td>\n",
       "      <td></td>\n",
       "      <td>137</td>\n",
       "      <td>0.620438</td>\n",
       "      <td>70</td>\n",
       "      <td>0.657143</td>\n",
       "      <td>67</td>\n",
       "      <td>0.582090</td>\n",
       "    </tr>\n",
       "    <tr>\n",
       "      <th>17</th>\n",
       "      <td>chessathletic</td>\n",
       "      <td></td>\n",
       "      <td>3</td>\n",
       "      <td>1.000000</td>\n",
       "      <td>2</td>\n",
       "      <td>1.000000</td>\n",
       "      <td>1</td>\n",
       "      <td>1.000000</td>\n",
       "    </tr>\n",
       "    <tr>\n",
       "      <th>19</th>\n",
       "      <td>vica56</td>\n",
       "      <td></td>\n",
       "      <td>20</td>\n",
       "      <td>0.800000</td>\n",
       "      <td>10</td>\n",
       "      <td>0.800000</td>\n",
       "      <td>10</td>\n",
       "      <td>0.800000</td>\n",
       "    </tr>\n",
       "    <tr>\n",
       "      <th>21</th>\n",
       "      <td>wudileige</td>\n",
       "      <td></td>\n",
       "      <td>50</td>\n",
       "      <td>0.500000</td>\n",
       "      <td>25</td>\n",
       "      <td>0.480000</td>\n",
       "      <td>25</td>\n",
       "      <td>0.520000</td>\n",
       "    </tr>\n",
       "    <tr>\n",
       "      <th>...</th>\n",
       "      <td>...</td>\n",
       "      <td>...</td>\n",
       "      <td>...</td>\n",
       "      <td>...</td>\n",
       "      <td>...</td>\n",
       "      <td>...</td>\n",
       "      <td>...</td>\n",
       "      <td>...</td>\n",
       "    </tr>\n",
       "    <tr>\n",
       "      <th>936</th>\n",
       "      <td>morozcoma</td>\n",
       "      <td></td>\n",
       "      <td>3</td>\n",
       "      <td>0.666667</td>\n",
       "      <td>1</td>\n",
       "      <td>1.000000</td>\n",
       "      <td>2</td>\n",
       "      <td>0.500000</td>\n",
       "    </tr>\n",
       "    <tr>\n",
       "      <th>937</th>\n",
       "      <td>rachidhuilda</td>\n",
       "      <td></td>\n",
       "      <td>51</td>\n",
       "      <td>0.705882</td>\n",
       "      <td>25</td>\n",
       "      <td>0.600000</td>\n",
       "      <td>26</td>\n",
       "      <td>0.807692</td>\n",
       "    </tr>\n",
       "    <tr>\n",
       "      <th>938</th>\n",
       "      <td>tepcovua2007</td>\n",
       "      <td></td>\n",
       "      <td>19</td>\n",
       "      <td>0.947368</td>\n",
       "      <td>10</td>\n",
       "      <td>0.900000</td>\n",
       "      <td>9</td>\n",
       "      <td>1.000000</td>\n",
       "    </tr>\n",
       "    <tr>\n",
       "      <th>939</th>\n",
       "      <td>chanchakman</td>\n",
       "      <td></td>\n",
       "      <td>11</td>\n",
       "      <td>0.545455</td>\n",
       "      <td>6</td>\n",
       "      <td>0.666667</td>\n",
       "      <td>5</td>\n",
       "      <td>0.400000</td>\n",
       "    </tr>\n",
       "    <tr>\n",
       "      <th>941</th>\n",
       "      <td>blacksirius</td>\n",
       "      <td></td>\n",
       "      <td>26</td>\n",
       "      <td>0.461538</td>\n",
       "      <td>13</td>\n",
       "      <td>0.538462</td>\n",
       "      <td>13</td>\n",
       "      <td>0.384615</td>\n",
       "    </tr>\n",
       "  </tbody>\n",
       "</table>\n",
       "<p>279 rows × 8 columns</p>\n",
       "</div>"
      ],
      "text/plain": [
       "                username title  numGames   winRate  numWhite  whiteRate  \\\n",
       "2               garcho08               5  0.800000         2   1.000000   \n",
       "12   lyndonlistzmendonca             137  0.620438        70   0.657143   \n",
       "17         chessathletic               3  1.000000         2   1.000000   \n",
       "19                vica56              20  0.800000        10   0.800000   \n",
       "21             wudileige              50  0.500000        25   0.480000   \n",
       "..                   ...   ...       ...       ...       ...        ...   \n",
       "936            morozcoma               3  0.666667         1   1.000000   \n",
       "937         rachidhuilda              51  0.705882        25   0.600000   \n",
       "938         tepcovua2007              19  0.947368        10   0.900000   \n",
       "939          chanchakman              11  0.545455         6   0.666667   \n",
       "941          blacksirius              26  0.461538        13   0.538462   \n",
       "\n",
       "     numBlack  blackRate  \n",
       "2           3   0.666667  \n",
       "12         67   0.582090  \n",
       "17          1   1.000000  \n",
       "19         10   0.800000  \n",
       "21         25   0.520000  \n",
       "..        ...        ...  \n",
       "936         2   0.500000  \n",
       "937        26   0.807692  \n",
       "938         9   1.000000  \n",
       "939         5   0.400000  \n",
       "941        13   0.384615  \n",
       "\n",
       "[279 rows x 8 columns]"
      ]
     },
     "execution_count": 136,
     "metadata": {},
     "output_type": "execute_result"
    }
   ],
   "source": [
    "chess2[(chess2['numWhite'] > 0) & (chess2['numBlack'] > 0)]"
   ]
  },
  {
   "cell_type": "code",
   "execution_count": 113,
   "id": "17243bad",
   "metadata": {},
   "outputs": [
    {
     "data": {
      "image/png": "[encoded data removed]",
      "text/plain": [
       "<Figure size 640x480 with 1 Axes>"
      ]
     },
     "metadata": {},
     "output_type": "display_data"
    }
   ],
   "source": [
    "sns.scatterplot(data=chess, x='numBlack', y = 'winRate');\n",
    "# plt.ylabel('Win Rate')\n"
   ]
  },
  {
   "cell_type": "code",
   "execution_count": null,
   "id": "c1cb479a",
   "metadata": {},
   "outputs": [],
   "source": []
  }
 ],
 "metadata": {
  "kernelspec": {
   "display_name": "Python 3 (ipykernel)",
   "language": "python",
   "name": "python3"
  },
  "language_info": {
   "codemirror_mode": {
    "name": "ipython",
    "version": 3
   },
   "file_extension": ".py",
   "mimetype": "text/x-python",
   "name": "python",
   "nbconvert_exporter": "python",
   "pygments_lexer": "ipython3",
   "version": "3.9.13"
  }
 },
 "nbformat": 4,
 "nbformat_minor": 5
}
